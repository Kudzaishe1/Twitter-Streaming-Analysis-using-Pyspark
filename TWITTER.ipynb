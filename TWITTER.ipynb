{
 "cells": [
  {
   "cell_type": "markdown",
   "metadata": {
    "colab_type": "text",
    "id": "eYPUaIszsMYO"
   },
   "source": [
    "IMPORTING THE REQUIRED LIBRARIES"
   ]
  },
  {
   "cell_type": "code",
   "execution_count": 1,
   "metadata": {
    "colab": {},
    "colab_type": "code",
    "id": "0RxHxLOdrHKR"
   },
   "outputs": [],
   "source": [
    "import tweepy\n",
    "import datetime as dt\n",
    "import numpy as np\n",
    "import socket\n",
    "import json\n",
    "import string \n",
    "from urlextract import URLExtract"
   ]
  },
  {
   "cell_type": "markdown",
   "metadata": {
    "colab_type": "text",
    "id": "WA8XOMMWrLQu"
   },
   "source": [
    "SETTING UP THE STREAMING SOCKET"
   ]
  },
  {
   "cell_type": "code",
   "execution_count": 2,
   "metadata": {
    "colab": {},
    "colab_type": "code",
    "id": "GKyru8H9rHKb"
   },
   "outputs": [],
   "source": [
    "SOCKET = socket.socket()\n",
    "PORT = 3000\n",
    "HOST = \"localhost\"\n",
    "SOCKET.bind((HOST, PORT))"
   ]
  },
  {
   "cell_type": "markdown",
   "metadata": {
    "colab_type": "text",
    "id": "HzK7U4DcrVM4"
   },
   "source": [
    "INITIALIZING TWITTER API KEYS"
   ]
  },
  {
   "cell_type": "code",
   "execution_count": 3,
   "metadata": {
    "colab": {},
    "colab_type": "code",
    "id": "bHCOQlwbrHKi",
    "outputId": "ef374092-762e-464c-c45f-80dedb367a21"
   },
   "outputs": [
    {
     "name": "stdout",
     "output_type": "stream",
     "text": [
      "Authentication OK\n"
     ]
    }
   ],
   "source": [
    "auth = tweepy.OAuthHandler(\"Ct6rzP8vOI7T2kPQCZZzQf5kB\", \"LuuvLbT8StAGoq4kJVAKi0Jy6GWm869jCe8DpgyRJvG3LHNmpr\")\n",
    "auth.set_access_token(\"979295250-JWVsGchPSb1w7vi3QMZ7O6JsvbUx5vXRUwzEqWJZ\",\"4XqFCYsNSRlWOCbzb3PLbzaomFUdTQuMoQ8txe8zraj2W\")\n",
    "api = tweepy.API(auth)\n",
    "\n",
    "try:\n",
    "    api.verify_credentials()\n",
    "    print(\"Authentication OK\")\n",
    "except:\n",
    "    print(\"Error during authentication\")"
   ]
  },
  {
   "cell_type": "markdown",
   "metadata": {},
   "source": [
    "INITIALIZING A URL EXTRACTOR WHICH WILL BE USED TO REMOVE ANY URL'S IN A TWEETS\n"
   ]
  },
  {
   "cell_type": "code",
   "execution_count": 4,
   "metadata": {},
   "outputs": [],
   "source": [
    "extractor = URLExtract()"
   ]
  },
  {
   "cell_type": "markdown",
   "metadata": {
    "colab_type": "text",
    "id": "ao6c2j5nrbt_"
   },
   "source": [
    "CONFIGURING THE TWITTER STREAMING CALLBACK FUNCTION TO STREAM TWEETS INTO THE SOCKET THROUGH THE LOCALHOST ON PORT 3000"
   ]
  },
  {
   "cell_type": "code",
   "execution_count": 5,
   "metadata": {
    "colab": {},
    "colab_type": "code",
    "id": "Hf--UGjYrHKq"
   },
   "outputs": [],
   "source": [
    "class MyStreamListener(tweepy.StreamListener):\n",
    "    def on_status(self, status):\n",
    "        tweet = status.text\n",
    "        if(extractor.has_urls(tweet)):tweet = tweet.replace(extractor.find_urls(tweet)[0],\"\")\n",
    "        tweet = tweet.translate(str.maketrans('','',string.punctuation))\n",
    "        CONNECTION.send(tweet.encode('ascii', 'ignore')) "
   ]
  },
  {
   "cell_type": "markdown",
   "metadata": {
    "colab_type": "text",
    "id": "Sf1K0Ua5ri4N"
   },
   "source": [
    "SETTING UP A TWITTER STREAMING LISTENER WITH THE AUTHENTICATED API KEYS AND CALL BACK FUNCTION"
   ]
  },
  {
   "cell_type": "code",
   "execution_count": 9,
   "metadata": {
    "colab": {},
    "colab_type": "code",
    "id": "iFkGyIn_rHKx"
   },
   "outputs": [],
   "source": [
    "myStreamListener = MyStreamListener()\n",
    "myStream = tweepy.Stream(auth = api.auth, listener=myStreamListener)"
   ]
  },
  {
   "cell_type": "markdown",
   "metadata": {
    "colab_type": "text",
    "id": "YoHX3JT4ru1s"
   },
   "source": [
    "ACTIVATING THE STREAMING SOCKET FOR CONNECTION REQUESTS"
   ]
  },
  {
   "cell_type": "code",
   "execution_count": 10,
   "metadata": {
    "colab": {},
    "colab_type": "code",
    "id": "F686ehrErHK6"
   },
   "outputs": [],
   "source": [
    "SOCKET.listen()\n",
    "CONNECTION, ADDRESS = SOCKET.accept() "
   ]
  },
  {
   "cell_type": "markdown",
   "metadata": {
    "colab_type": "text",
    "id": "Nc6Wl6Gyr2x8"
   },
   "source": [
    "STREAMING TWEETS UNDER THE SPECIFIED TAGS "
   ]
  },
  {
   "cell_type": "code",
   "execution_count": null,
   "metadata": {
    "colab": {},
    "colab_type": "code",
    "id": "E_vLAZDNrHLB"
   },
   "outputs": [],
   "source": [
    "try:\n",
    "    myStream.filter(track=[\"#covid-19\",\"#coronavirus\"], languages=['en'])\n",
    "except:\n",
    "    CONNECTION.close()"
   ]
  },
  {
   "cell_type": "code",
   "execution_count": 0,
   "metadata": {
    "colab": {},
    "colab_type": "code",
    "id": "AwcPc2NyrHLK"
   },
   "outputs": [],
   "source": []
  }
 ],
 "metadata": {
  "colab": {
   "collapsed_sections": [],
   "name": "TWITTER.ipynb",
   "provenance": []
  },
  "kernelspec": {
   "display_name": "Python 3",
   "language": "python",
   "name": "python3"
  },
  "language_info": {
   "codemirror_mode": {
    "name": "ipython",
    "version": 3
   },
   "file_extension": ".py",
   "mimetype": "text/x-python",
   "name": "python",
   "nbconvert_exporter": "python",
   "pygments_lexer": "ipython3",
   "version": "3.7.6"
  }
 },
 "nbformat": 4,
 "nbformat_minor": 1
}
