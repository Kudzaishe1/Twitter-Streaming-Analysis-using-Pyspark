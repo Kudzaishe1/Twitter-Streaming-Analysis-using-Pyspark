{
 "cells": [
  {
   "cell_type": "markdown",
   "metadata": {
    "colab_type": "text",
    "id": "YUvrGUM5sddD"
   },
   "source": [
    "IMPORTING THE REQUIRED LIBRARIES"
   ]
  },
  {
   "cell_type": "code",
   "execution_count": 1,
   "metadata": {
    "colab": {},
    "colab_type": "code",
    "id": "oqU-UU2brHG7"
   },
   "outputs": [],
   "source": [
    "from pyspark.sql import SparkSession\n",
    "from pyspark.sql.functions import explode\n",
    "from pyspark.sql.functions import split"
   ]
  },
  {
   "cell_type": "markdown",
   "metadata": {
    "colab_type": "text",
    "id": "I-KE-5pbsidT"
   },
   "source": [
    "SETTING UP A SPARK SESSION TO HANDLE SQL CONTEXTS"
   ]
  },
  {
   "cell_type": "code",
   "execution_count": 2,
   "metadata": {
    "colab": {},
    "colab_type": "code",
    "id": "Rksq5MGyrHHF"
   },
   "outputs": [],
   "source": [
    "spark = SparkSession \\\n",
    "    .builder \\\n",
    "    .appName(\"DB_SPARK_STREAM\") \\\n",
    "    .getOrCreate()"
   ]
  },
  {
   "cell_type": "markdown",
   "metadata": {
    "colab_type": "text",
    "id": "ZzjbzXp5tmSt"
   },
   "source": [
    "CONFIGURING THE STREAMING PROTOCOLS TO LOCALHOST ON PORT 3000 "
   ]
  },
  {
   "cell_type": "code",
   "execution_count": 3,
   "metadata": {
    "colab": {},
    "colab_type": "code",
    "id": "qSiKsKVOrHHK"
   },
   "outputs": [],
   "source": [
    "lines = spark \\\n",
    "    .readStream \\\n",
    "    .format(\"socket\") \\\n",
    "    .option(\"host\", \"localhost\")\\\n",
    "    .option(\"port\", 3000) \\\n",
    "    .load()"
   ]
  },
  {
   "cell_type": "markdown",
   "metadata": {
    "colab_type": "text",
    "id": "XnvCTb-wtz6Z"
   },
   "source": [
    "SPLITTING THE STREAMS BY EMPTY SPACES "
   ]
  },
  {
   "cell_type": "code",
   "execution_count": 4,
   "metadata": {
    "colab": {},
    "colab_type": "code",
    "id": "Vd-p1BHdrHHR"
   },
   "outputs": [],
   "source": [
    "words = lines.select(\n",
    "   explode(\n",
    "       split(lines.value, \" \")\n",
    "   ).alias(\"word\")\n",
    ")"
   ]
  },
  {
   "cell_type": "markdown",
   "metadata": {
    "colab_type": "text",
    "id": "e8r_byYQuGcZ"
   },
   "source": [
    "REDUCING THE COLLECTED DATA BY GROUPING IDENTICAL WORDS AND RECORDING THE AMOUNT OF TIMES EACH GROUP OF WORDS APPEARS"
   ]
  },
  {
   "cell_type": "code",
   "execution_count": 5,
   "metadata": {
    "colab": {},
    "colab_type": "code",
    "id": "tVWo2yOQrHHY",
    "outputId": "b48cae2e-b249-4c59-ac90-3b4f9362dd81"
   },
   "outputs": [
    {
     "data": {
      "text/plain": [
       "True"
      ]
     },
     "execution_count": 5,
     "metadata": {},
     "output_type": "execute_result"
    }
   ],
   "source": [
    "wordCounts = words.groupBy(\"word\").count()\n",
    "lines.isStreaming"
   ]
  },
  {
   "cell_type": "markdown",
   "metadata": {
    "colab_type": "text",
    "id": "6-KKuDSUvCyR"
   },
   "source": [
    "STARTING THE STREAM"
   ]
  },
  {
   "cell_type": "code",
   "execution_count": 6,
   "metadata": {
    "colab": {},
    "colab_type": "code",
    "id": "SowdEFZCrHHg"
   },
   "outputs": [],
   "source": [
    "query = wordCounts \\\n",
    "    .writeStream \\\n",
    "    .queryName(\"words\")\\\n",
    "    .outputMode(\"complete\")\\\n",
    "    .format(\"memory\") \\\n",
    "    .start()"
   ]
  },
  {
   "cell_type": "markdown",
   "metadata": {
    "colab_type": "text",
    "id": "-D_8Mja4vI8A"
   },
   "source": [
    "SLEEPING FOR 60 SECONDS TO LET THE DATA TO STREAM INTO THE SQL DATABASE"
   ]
  },
  {
   "cell_type": "code",
   "execution_count": 7,
   "metadata": {
    "colab": {},
    "colab_type": "code",
    "id": "3KYv6uVVrHHn"
   },
   "outputs": [],
   "source": [
    "import time"
   ]
  },
  {
   "cell_type": "code",
   "execution_count": 8,
   "metadata": {
    "colab": {},
    "colab_type": "code",
    "id": "WUTqLyyfrHHt"
   },
   "outputs": [],
   "source": [
    "import pandas as pd"
   ]
  },
  {
   "cell_type": "code",
   "execution_count": 9,
   "metadata": {
    "colab": {},
    "colab_type": "code",
    "id": "gASMjokJrHH0"
   },
   "outputs": [],
   "source": [
    "from IPython import display\n",
    "import seaborn as sns\n",
    "import matplotlib.pyplot as plt\n",
    "%matplotlib inline"
   ]
  },
  {
   "cell_type": "code",
   "execution_count": 10,
   "metadata": {
    "colab": {},
    "colab_type": "code",
    "id": "rDTHYyjirHH6"
   },
   "outputs": [],
   "source": [
    "sns.set(style=\"whitegrid\")"
   ]
  },
  {
   "cell_type": "code",
   "execution_count": 11,
   "metadata": {
    "colab": {},
    "colab_type": "code",
    "id": "BY64Pk6brHH-"
   },
   "outputs": [],
   "source": [
    "def PLOT_GRAPH(X,Y):\n",
    "    try:\n",
    "        plt.figure(figsize=(9,4))\n",
    "        plt.title(\"Twitter words analysis\")\n",
    "        plt.xticks(rotation=40)\n",
    "        plt.xlabel(\"Word Category\")\n",
    "        plt.ylabel(\"Amount of occurences in tweets\")\n",
    "        sns.barplot(X,Y)\n",
    "        plt.show()\n",
    "    except:\n",
    "        pass\n",
    "    \n",
    "def PLOT_GRAPH_2(X,Y):\n",
    "    try:\n",
    "        plt.figure(figsize=(9,4))\n",
    "        plt.title(\"Top 10 word appearances\")\n",
    "        plt.xticks(rotation=40)\n",
    "        plt.xlabel(\"Word\")\n",
    "        plt.ylabel(\"Amount of occurences in tweets\")\n",
    "        sns.barplot(X,Y)\n",
    "        plt.show()\n",
    "    except:\n",
    "        pass"
   ]
  },
  {
   "cell_type": "markdown",
   "metadata": {
    "colab_type": "text",
    "id": "LSeNuoOAvcZ6"
   },
   "source": [
    "IMPORTING THE OFFENSIVE LANGUAGE DETECTION LIBRARY (PROFANITY)"
   ]
  },
  {
   "cell_type": "code",
   "execution_count": 12,
   "metadata": {
    "colab": {},
    "colab_type": "code",
    "id": "CdDdlK-4rHIK"
   },
   "outputs": [],
   "source": [
    "from profanity import profanity \n",
    "import string"
   ]
  },
  {
   "cell_type": "markdown",
   "metadata": {
    "colab_type": "text",
    "id": "ziOMBabfv4CL"
   },
   "source": [
    "IMPORTING AN ENGLISH DICTIONARY (ENCHANT) THIS LIBRARY HELPS DETECT AND PROVIDE SPELLING SUGGESTIONS "
   ]
  },
  {
   "cell_type": "code",
   "execution_count": 13,
   "metadata": {
    "colab": {},
    "colab_type": "code",
    "id": "pK72_ni6rHIT"
   },
   "outputs": [],
   "source": [
    "import enchant\n",
    "Spell = enchant.Dict(\"en_US\")"
   ]
  },
  {
   "cell_type": "markdown",
   "metadata": {
    "colab_type": "text",
    "id": "Fn3pT_gxwILL"
   },
   "source": [
    "TABULATE IS USED TO GENERATE A MISSPELT WORDS AND POSSIBLE SUGGESTIONS TABLE"
   ]
  },
  {
   "cell_type": "code",
   "execution_count": 14,
   "metadata": {
    "colab": {},
    "colab_type": "code",
    "id": "fRYTbBcFrHIZ"
   },
   "outputs": [],
   "source": [
    "from tabulate import tabulate"
   ]
  },
  {
   "cell_type": "code",
   "execution_count": 15,
   "metadata": {
    "colab": {},
    "colab_type": "code",
    "id": "sHtcCCQ8rHIe"
   },
   "outputs": [],
   "source": [
    "SPELLING_table = []\n",
    "OFFENSIVE_TABLE = []\n",
    "data = {}"
   ]
  },
  {
   "cell_type": "markdown",
   "metadata": {
    "colab_type": "text",
    "id": "g8bwWO1AwWgC"
   },
   "source": [
    "THE DATA IS QUERIED FROM THE DATABASE AND GROUPED BY THE WORD COLUMN. THE RESULT IS CONVERTED TO A PANDAS DATAFRAME AND TRANSFORMED TO A DICTIONARY IN WHICH THE WORDS ARE THE KEYS"
   ]
  },
  {
   "cell_type": "code",
   "execution_count": 16,
   "metadata": {
    "colab": {},
    "colab_type": "code",
    "id": "YBF-di-7rHIs"
   },
   "outputs": [],
   "source": [
    "MISSPELT_WORDS=0\n",
    "FOUL_LANGUAGE=0\n",
    "CORRECTLY_SPELT_WORDS=0"
   ]
  },
  {
   "cell_type": "code",
   "execution_count": 17,
   "metadata": {
    "colab": {},
    "colab_type": "code",
    "id": "9hh6LIU7rHIw"
   },
   "outputs": [],
   "source": [
    "COMMON_WORDS = []\n",
    "COMMON_WORDS_Y = []\n",
    "index = 0"
   ]
  },
  {
   "cell_type": "code",
   "execution_count": 18,
   "metadata": {
    "colab": {},
    "colab_type": "code",
    "id": "oxY9nxtRrHIj"
   },
   "outputs": [
    {
     "data": {
      "text/plain": [
       "[66]"
      ]
     },
     "execution_count": 18,
     "metadata": {},
     "output_type": "execute_result"
    }
   ],
   "source": [
    "time.sleep(60)\n",
    "data.update(spark.sql(\"select * from words\").toPandas().set_index('word').T.to_dict('list'))\n",
    "data.pop('',None)"
   ]
  },
  {
   "cell_type": "markdown",
   "metadata": {
    "colab_type": "text",
    "id": "OSX9wMUiw1ED"
   },
   "source": [
    "A GRAPH OF THE TOP 10 STREAMED WORDS WITHIN THE DATABASE ORDERED FROM THE HIGHEST OCCURENCE TO THE 10TH HIGHEST "
   ]
  },
  {
   "cell_type": "code",
   "execution_count": 19,
   "metadata": {
    "colab": {},
    "colab_type": "code",
    "id": "yH3uh55grHI1"
   },
   "outputs": [],
   "source": [
    "TOP_WORDS = sorted(data, key=data.get, reverse=True)[:10]\n",
    "TOP_WORDS_Y = []\n",
    "for i in TOP_WORDS:\n",
    "    TOP_WORDS_Y.append(data[i][0])"
   ]
  },
  {
   "cell_type": "markdown",
   "metadata": {
    "colab_type": "text",
    "id": "pmLbjRgexHkj"
   },
   "source": [
    "THIS SECTION INCLUDES A TABLE OF ALL MISPELTS WORDS, A GRAPH COMPARING THE AMOUNT OF MISSPELT WORDS VS OFFENSIVE WORDS VS CORRECT WORDS, AND LASTLY A GRAPH OF THE MOST RECENTLY ANALYZED WORDS WITHIN THE CORRECT WORDS CATEGORY AND THE AMOUNT OF OCCURENCES THEY HAD WITHIN THE DATABASE "
   ]
  },
  {
   "cell_type": "code",
   "execution_count": 20,
   "metadata": {
    "colab": {},
    "colab_type": "code",
    "id": "K_eF2cVFrHI7",
    "scrolled": true
   },
   "outputs": [
    {
     "name": "stdout",
     "output_type": "stream",
     "text": [
      "ANALYZING...\n",
      "COMPLETED RUN THE CELLS BELOW FOR RESULTS\n"
     ]
    }
   ],
   "source": [
    "print(\"ANALYZING...\")\n",
    "for key in data.keys():\n",
    "    \n",
    "        if(profanity.contains_profanity(key) == True):\n",
    "            OFFENSIVE_TABLE.append([key])\n",
    "            FOUL_LANGUAGE += data[key][0]\n",
    "            continue\n",
    "            \n",
    "        elif(Spell.check(key)):\n",
    "            CORRECTLY_SPELT_WORDS += data[key][0]\n",
    "            continue\n",
    "            \n",
    "        elif(Spell.check(key) is False):\n",
    "            MISSPELT_WORDS += data[key][0]\n",
    "            CORRECTIONS = Spell.suggest(key)\n",
    "            CORRECTIONS.insert(0,str(key))\n",
    "            \n",
    "            if(len(CORRECTIONS) > 4):CORRECTIONS = CORRECTIONS[0:4]\n",
    "                \n",
    "            SPELLING_table.append(CORRECTIONS)\n",
    "print(\"COMPLETED RUN THE CELLS BELOW FOR RESULTS\")"
   ]
  },
  {
   "cell_type": "code",
   "execution_count": 36,
   "metadata": {},
   "outputs": [
    {
     "name": "stdout",
     "output_type": "stream",
     "text": [
      "+------------------+\n",
      "| OFFENSIVE WORD   |\n",
      "+==================+\n",
      "| SussexUni        |\n",
      "+------------------+\n"
     ]
    }
   ],
   "source": [
    "if(OFFENSIVE_TABLE):print(tabulate(OFFENSIVE_TABLE,headers=[\"OFFENSIVE WORD\"],tablefmt=\"grid\"))\n",
    "with open(\"OFFENSIVE.txt\",\"w\") as file:\n",
    "    file.write(tabulate(OFFENSIVE_TABLE,headers=[\"OFFENSIVE WORD\"],tablefmt=\"grid\"))"
   ]
  },
  {
   "cell_type": "code",
   "execution_count": 32,
   "metadata": {
    "colab": {},
    "colab_type": "code",
    "id": "x53nDqmlrHI_"
   },
   "outputs": [
    {
     "name": "stdout",
     "output_type": "stream",
     "text": [
      "+------------------------------+-------------------------------+-------------------------------+---------------------+\n",
      "| Missplelt Word               | Suggestion 1                  | Suggestion 2                  | Suggestion 3        |\n",
      "+==============================+===============================+===============================+=====================+\n",
      "| bbybrandz                    | Brandyn                       | Brandy                        | brandy              |\n",
      "+------------------------------+-------------------------------+-------------------------------+---------------------+\n",
      "| presymptomatic               | asymptomatic                  | symptomatically               | symptomatic         |\n",
      "+------------------------------+-------------------------------+-------------------------------+---------------------+\n",
      "| qaangus                      | Angus                         | quangos                       | Ganges              |\n",
      "+------------------------------+-------------------------------+-------------------------------+---------------------+\n",
      "| coRT                         | Cort                          | corr                          | cot                 |\n",
      "+------------------------------+-------------------------------+-------------------------------+---------------------+\n",
      "| straIn                       | st Rain                       | s Train                       | strain              |\n",
      "+------------------------------+-------------------------------+-------------------------------+---------------------+\n",
      "| householdsGreat              | households Great              | households-great              | householder         |\n",
      "+------------------------------+-------------------------------+-------------------------------+---------------------+\n",
      "| NorthAmerica                 | North America                 | North-America                 | Northampton         |\n",
      "+------------------------------+-------------------------------+-------------------------------+---------------------+\n",
      "| httpstcovOL9ZR7FPESecond     | electroencephalographic       | electroencephalographs        |                     |\n",
      "+------------------------------+-------------------------------+-------------------------------+---------------------+\n",
      "| disproportionatePennsylvania | disproportionate Pennsylvania | disproportionate-Pennsylvania | disproportionate    |\n",
      "+------------------------------+-------------------------------+-------------------------------+---------------------+\n",
      "| Mattlw                       | Mattel                        | Matt                          | Matelda             |\n",
      "+------------------------------+-------------------------------+-------------------------------+---------------------+\n",
      "| Mohammed                     | Mohamed                       | Mohammad                      | Mo hammed           |\n",
      "+------------------------------+-------------------------------+-------------------------------+---------------------+\n",
      "| Nenagh9                      | Teenage                       | Newness                       | Nonnah              |\n",
      "+------------------------------+-------------------------------+-------------------------------+---------------------+\n",
      "| SmallBusiness                | Small Business                | Small-business                | Businessman         |\n",
      "+------------------------------+-------------------------------+-------------------------------+---------------------+\n",
      "| Kono                         | Koo                           | Kongo                         | Kano                |\n",
      "+------------------------------+-------------------------------+-------------------------------+---------------------+\n",
      "| WestMidlandsSMP              | Westminster                   | Protestantism                 |                     |\n",
      "+------------------------------+-------------------------------+-------------------------------+---------------------+\n",
      "| rRT                          | r Rt                          | CRT                           | rt                  |\n",
      "+------------------------------+-------------------------------+-------------------------------+---------------------+\n",
      "| PaCashAppWisdom              | Percussionist                 | Parapsychologist              |                     |\n",
      "+------------------------------+-------------------------------+-------------------------------+---------------------+\n",
      "| bringerofchill               | childbearing                  | childrearing                  | neurophysiology     |\n",
      "+------------------------------+-------------------------------+-------------------------------+---------------------+\n",
      "| allkeyshop                   | shoptalk                      | allophone                     | allegation          |\n",
      "+------------------------------+-------------------------------+-------------------------------+---------------------+\n",
      "| MelissaBlasius               | Impassableness                | Melissa                       | Unmissable          |\n",
      "+------------------------------+-------------------------------+-------------------------------+---------------------+\n",
      "| SBADeirdreKrenz              | Deirdre                       | Presbyterianism               | Subdirectory        |\n",
      "+------------------------------+-------------------------------+-------------------------------+---------------------+\n",
      "| Defence                      | De fence                      | De-fence                      | Defense             |\n",
      "+------------------------------+-------------------------------+-------------------------------+---------------------+\n",
      "| Reopenings                   | Re openings                   | Re-openings                   | Reopening           |\n",
      "+------------------------------+-------------------------------+-------------------------------+---------------------+\n",
      "| knowDemocrats                | know Democrats                | know-Democrats                | know-democrats      |\n",
      "+------------------------------+-------------------------------+-------------------------------+---------------------+\n",
      "| DonatePlasmaSaveALife        | Departmentalization           | Electroencephalogram          |                     |\n",
      "+------------------------------+-------------------------------+-------------------------------+---------------------+\n",
      "| AmbLiuXiaoMing               | Brambling                     | Emblazonment                  | Immobilization      |\n",
      "+------------------------------+-------------------------------+-------------------------------+---------------------+\n",
      "| atticus                      | attics                        | attic's                       | attic us            |\n",
      "+------------------------------+-------------------------------+-------------------------------+---------------------+\n",
      "| AbhinaPrakash                | Abstractionism                | Abstractionist                |                     |\n",
      "+------------------------------+-------------------------------+-------------------------------+---------------------+\n",
      "| mUzimamobile                 | mobilizable                   | automobile                    | immobilize          |\n",
      "+------------------------------+-------------------------------+-------------------------------+---------------------+\n",
      "| KhurrumSherZaman             | Disfranchisement              | Hydromechanics                |                     |\n",
      "+------------------------------+-------------------------------+-------------------------------+---------------------+\n",
      "| Jinping                      | Jingling                      | Jinxing                       | Pinging             |\n",
      "+------------------------------+-------------------------------+-------------------------------+---------------------+\n",
      "| 10DowningStreet              | Longstreet                    | considerateness               | nonadministrative   |\n",
      "+------------------------------+-------------------------------+-------------------------------+---------------------+\n",
      "| jeffmason1                   | Jefferson                     | famousness                    | Freemasonry         |\n",
      "+------------------------------+-------------------------------+-------------------------------+---------------------+\n",
      "| TestTraceIsolate             | Mistranslates                 | Preisolated                   | Attractivenesses    |\n",
      "+------------------------------+-------------------------------+-------------------------------+---------------------+\n",
      "| ForeignerChallenge           | Foreigner Challenge           | Foreigner-challenge           | Interchangeableness |\n",
      "+------------------------------+-------------------------------+-------------------------------+---------------------+\n",
      "| iranpolicy                   | policymaker                   | policyholder                  | politician          |\n",
      "+------------------------------+-------------------------------+-------------------------------+---------------------+\n",
      "| UAEForsan                    | Forsaken                      | Formosan                      | Forsake             |\n",
      "+------------------------------+-------------------------------+-------------------------------+---------------------+\n",
      "| dawncom                      | dawn com                      | dawn-com                      | Dawna               |\n",
      "+------------------------------+-------------------------------+-------------------------------+---------------------+\n",
      "| upskilling                   | up skilling                   | up-skilling                   | ups killing         |\n",
      "+------------------------------+-------------------------------+-------------------------------+---------------------+\n",
      "| Coronavirus                  | Corona virus                  | Corona-virus                  | Coronation          |\n",
      "+------------------------------+-------------------------------+-------------------------------+---------------------+\n",
      "| schRT                        | sch Rt                        | sch-rt                        | scratch             |\n",
      "+------------------------------+-------------------------------+-------------------------------+---------------------+\n",
      "| anRT                         | an Rt                         | ant                           | art                 |\n",
      "+------------------------------+-------------------------------+-------------------------------+---------------------+\n",
      "| HCQ                          | THC                           | HOC                           | HERC                |\n",
      "+------------------------------+-------------------------------+-------------------------------+---------------------+\n",
      "| AllunitedagainstcovRT        | Nondeterministically          | Individualistically           |                     |\n",
      "+------------------------------+-------------------------------+-------------------------------+---------------------+\n",
      "| gulfnews                     | gulf news                     | gulf-news                     | engulfs             |\n",
      "+------------------------------+-------------------------------+-------------------------------+---------------------+\n",
      "| bskipper27                   | skipper                       | Skipper                       | kipper              |\n",
      "+------------------------------+-------------------------------+-------------------------------+---------------------+\n",
      "| onefamilyonemission          | noncommissioned               | semiprofessional              | commissioner        |\n",
      "+------------------------------+-------------------------------+-------------------------------+---------------------+\n",
      "| YBNEVO                       | EVONNE                        | YVONNE                        | BONFIRE             |\n",
      "+------------------------------+-------------------------------+-------------------------------+---------------------+\n",
      "| GrouciDjamila                | Grouchily                     | Jurisdictional                | Militaristic        |\n",
      "+------------------------------+-------------------------------+-------------------------------+---------------------+\n",
      "| BethRigby                    | Birthright                    | Bridgeable                    | Bathrobe            |\n",
      "+------------------------------+-------------------------------+-------------------------------+---------------------+\n",
      "| 1rarebird61                  | shorebird                     | lyrebird                      | scoreboard          |\n",
      "+------------------------------+-------------------------------+-------------------------------+---------------------+\n",
      "| SmallBizRelief               | Smallholders                  | Smallholding                  | Malleableness       |\n",
      "+------------------------------+-------------------------------+-------------------------------+---------------------+\n",
      "| kenolin1                     | Olenolin                      | kingliness                    | signaling           |\n",
      "+------------------------------+-------------------------------+-------------------------------+---------------------+\n",
      "| TostevinM                    | Steinmetz                     | Stevie                        | Stevenson           |\n",
      "+------------------------------+-------------------------------+-------------------------------+---------------------+\n",
      "| LMFAOAOAO                    | LYMPHOMA                      | LYMPHATIC                     |                     |\n",
      "+------------------------------+-------------------------------+-------------------------------+---------------------+\n",
      "| youre                        | your                          | yore                          | you're              |\n",
      "+------------------------------+-------------------------------+-------------------------------+---------------------+\n",
      "| countryRT                    | country Rt                    | country-rt                    | country             |\n",
      "+------------------------------+-------------------------------+-------------------------------+---------------------+\n",
      "| AntibodyTest                 | Antibody Test                 | Antibody-test                 | Antibody            |\n",
      "+------------------------------+-------------------------------+-------------------------------+---------------------+\n",
      "| infectionillness             | infection illness             | infection-illness             | infectiousness      |\n",
      "+------------------------------+-------------------------------+-------------------------------+---------------------+\n",
      "| RocketSkills1                | Retrorocket                   | Skyrocket                     | Nondisclosure       |\n",
      "+------------------------------+-------------------------------+-------------------------------+---------------------+\n",
      "| sariyarana                   | Satyanarayanan                | sanitarian                    | sanguinary          |\n",
      "+------------------------------+-------------------------------+-------------------------------+---------------------+\n",
      "| retweet                      | re tweet                      | re-tweet                      | tweeter             |\n",
      "+------------------------------+-------------------------------+-------------------------------+---------------------+\n",
      "| CoronavirusLazierSusan       | Unselfconsciousness           | Electroencephalography        |                     |\n",
      "+------------------------------+-------------------------------+-------------------------------+---------------------+\n",
      "| BBCBreakfast                 | Breakfaster                   | Breakfast                     | Breaststroke        |\n",
      "+------------------------------+-------------------------------+-------------------------------+---------------------+\n",
      "| LiquidRitz                   | Liquid Ritz                   | Liquid-Ritz                   | Liquidizer          |\n",
      "+------------------------------+-------------------------------+-------------------------------+---------------------+\n",
      "| BEFORT                       | BEFORE                        | BE FORT                       | BE-FORT             |\n",
      "+------------------------------+-------------------------------+-------------------------------+---------------------+\n",
      "| nan                          | Nan                           | ban                           | man                 |\n",
      "+------------------------------+-------------------------------+-------------------------------+---------------------+\n",
      "| herRT                        | her Rt                        | heart                         | her-rt              |\n",
      "+------------------------------+-------------------------------+-------------------------------+---------------------+\n",
      "| CoronaVirus                  | Corona Virus                  | Corona-virus                  | Coronation          |\n",
      "+------------------------------+-------------------------------+-------------------------------+---------------------+\n",
      "| CarlosdelRio7                | Carletonian                   | Crystallized                  | Claustrophobic      |\n",
      "+------------------------------+-------------------------------+-------------------------------+---------------------+\n",
      "| NicolaSturgeon               | Nicola Sturgeon               | Nicola-sturgeon               | Neurosurgeon        |\n",
      "+------------------------------+-------------------------------+-------------------------------+---------------------+\n",
      "| globalgiving                 | global giving                 | global-giving                 | globalism           |\n",
      "+------------------------------+-------------------------------+-------------------------------+---------------------+\n",
      "| MFAChina                     | MFA China                     | MFA-China                     | Machinate           |\n",
      "+------------------------------+-------------------------------+-------------------------------+---------------------+\n",
      "| timcolbourn                  | Melbourne                     | musclebound                   | hemoglobin          |\n",
      "+------------------------------+-------------------------------+-------------------------------+---------------------+\n",
      "| sprRT                        | sprat                         | sport                         | spurt               |\n",
      "+------------------------------+-------------------------------+-------------------------------+---------------------+\n",
      "| BEFOTreeassassin1            | Assassination                 | Meretriciousness              | Boisterousness      |\n",
      "+------------------------------+-------------------------------+-------------------------------+---------------------+\n",
      "| AhsanIqbal                   | Iqbal                         | Sinkable                      | Exchangeable        |\n",
      "+------------------------------+-------------------------------+-------------------------------+---------------------+\n",
      "| PTTI                         | ETTI                          | PT TI                         | PT-TI               |\n",
      "+------------------------------+-------------------------------+-------------------------------+---------------------+\n",
      "| cashdolljr                   | cashless                      | Guadalajara                   | eschatology         |\n",
      "+------------------------------+-------------------------------+-------------------------------+---------------------+\n",
      "| weekendRT                    | weekend Rt                    | weekend-rt                    | weekender           |\n",
      "+------------------------------+-------------------------------+-------------------------------+---------------------+\n",
      "| awkward1110                  | awkward                       | backwardness                  | Edgewater           |\n",
      "+------------------------------+-------------------------------+-------------------------------+---------------------+\n",
      "| boghche                      | botcher                       | Boucher                       | Beecher             |\n",
      "+------------------------------+-------------------------------+-------------------------------+---------------------+\n",
      "| poopman37                    | postman                       | peppermint                    | newspaperman        |\n",
      "+------------------------------+-------------------------------+-------------------------------+---------------------+\n",
      "| doctorsoumya                 | doctorate                     | disambiguate                  | semiconductor       |\n",
      "+------------------------------+-------------------------------+-------------------------------+---------------------+\n",
      "| rn                           | RN                            | Rn                            | en                  |\n",
      "+------------------------------+-------------------------------+-------------------------------+---------------------+\n",
      "| PPP                          | OPP                           | POP                           | PP                  |\n",
      "+------------------------------+-------------------------------+-------------------------------+---------------------+\n",
      "| Allkeyshop                   | Shoptalk                      | Allophone                     | Allegation          |\n",
      "+------------------------------+-------------------------------+-------------------------------+---------------------+\n",
      "| summarised                   | summarized                    | summarizer                    | summarize           |\n",
      "+------------------------------+-------------------------------+-------------------------------+---------------------+\n",
      "| charliekirk11                | Charlie                       | archaeological                | chalkiness          |\n",
      "+------------------------------+-------------------------------+-------------------------------+---------------------+\n",
      "| httpstco2dD7nZpNfCTodos      | electroencephalographic       | electroencephalographs        |                     |\n",
      "+------------------------------+-------------------------------+-------------------------------+---------------------+\n",
      "| holly37461027                | hollowness                    | hollowware                    |                     |\n",
      "+------------------------------+-------------------------------+-------------------------------+---------------------+\n",
      "| betterto                     | better to                     | better-to                     | better              |\n",
      "+------------------------------+-------------------------------+-------------------------------+---------------------+\n",
      "| ICYMI                        | ICY MI                        | ICY-MI                        | ICY                 |\n",
      "+------------------------------+-------------------------------+-------------------------------+---------------------+\n",
      "| MarchTexas                   | March Texas                   | March-Texas                   | Matriarchs          |\n",
      "+------------------------------+-------------------------------+-------------------------------+---------------------+\n",
      "| DIBLiv                       | Divisible                     | Dibble                        | Livid               |\n",
      "+------------------------------+-------------------------------+-------------------------------+---------------------+\n",
      "| whenPut                      | when Put                      | when-put                      | when                |\n",
      "+------------------------------+-------------------------------+-------------------------------+---------------------+\n",
      "| didnt                        | didn't                        | dint                          | didst               |\n",
      "+------------------------------+-------------------------------+-------------------------------+---------------------+\n",
      "| 4K                           | 4                             | K                             | CK                  |\n",
      "+------------------------------+-------------------------------+-------------------------------+---------------------+\n",
      "| 9RT                          | RT                            | ART                           | 9 RT                |\n",
      "+------------------------------+-------------------------------+-------------------------------+---------------------+\n",
      "| YULIN                        | YUL IN                        | YUL-IN                        | INSULIN             |\n",
      "+------------------------------+-------------------------------+-------------------------------+---------------------+\n",
      "| httpstcoN4H9hVzt1HRT         | magnetohydrodynamics          | hypophysectomized             |                     |\n",
      "+------------------------------+-------------------------------+-------------------------------+---------------------+\n",
      "| newsCOVID19                  | newscasting                   | newscaster                    | Muscovite           |\n",
      "+------------------------------+-------------------------------+-------------------------------+---------------------+\n",
      "| ArchKennedy                  | Arch Kennedy                  | Arch-Kennedy                  | Archenemy           |\n",
      "+------------------------------+-------------------------------+-------------------------------+---------------------+\n",
      "| teresabewsey5                | Teressa                       | traceableness                 | traceability        |\n",
      "+------------------------------+-------------------------------+-------------------------------+---------------------+\n",
      "| Brazils                      | Brazil                        | Brazil's                      | Brazil s            |\n",
      "+------------------------------+-------------------------------+-------------------------------+---------------------+\n",
      "| ScottPresler                 | Prescott                      | Preschooler                   | Letterpress         |\n",
      "+------------------------------+-------------------------------+-------------------------------+---------------------+\n",
      "| covid19                      | Vidovic                       | coiffed                       | coveting            |\n",
      "+------------------------------+-------------------------------+-------------------------------+---------------------+\n",
      "| sallyKP                      | sally KP                      | sally-KP                      | sally               |\n",
      "+------------------------------+-------------------------------+-------------------------------+---------------------+\n",
      "| LockdownNo                   | Knockdown                     | Crackdown                     | Lowdown             |\n",
      "+------------------------------+-------------------------------+-------------------------------+---------------------+\n",
      "| FundtheFirst                 | Firsthand                     | Headfirst                     | Fundamentalist      |\n",
      "+------------------------------+-------------------------------+-------------------------------+---------------------+\n",
      "| httpstco5OsLr7NNoYRT         | radiopasteurization           | anachronistically             |                     |\n",
      "+------------------------------+-------------------------------+-------------------------------+---------------------+\n",
      "| MaryJoe38642126              | Marriageability               | Marriageable                  |                     |\n",
      "+------------------------------+-------------------------------+-------------------------------+---------------------+\n",
      "| disproportionateRT           | disproportionate Rt           | disproportionate-rt           | disproportionate    |\n",
      "+------------------------------+-------------------------------+-------------------------------+---------------------+\n",
      "| TogetherWeCan                | Togetherness                  | Together                      | Theatergoing        |\n",
      "+------------------------------+-------------------------------+-------------------------------+---------------------+\n",
      "| DatasourceRT                 | Outsource                     | Standardizes                  | Disastrous          |\n",
      "+------------------------------+-------------------------------+-------------------------------+---------------------+\n",
      "| criticise                    | criticism                     | criticize                     | criticizing         |\n",
      "+------------------------------+-------------------------------+-------------------------------+---------------------+\n",
      "| SavingLives                  | Saving Lives                  | Saving-lives                  | Lifesavings         |\n",
      "+------------------------------+-------------------------------+-------------------------------+---------------------+\n",
      "| birthdayRT                   | birthday Rt                   | birthday-rt                   | birthday            |\n",
      "+------------------------------+-------------------------------+-------------------------------+---------------------+\n",
      "| CoronaViRT                   | Coronation                    | Coronate                      | Coronary            |\n",
      "+------------------------------+-------------------------------+-------------------------------+---------------------+\n",
      "| RoryStewartUK                | Stewart                       | Watercolorist                 | Trustworthier       |\n",
      "+------------------------------+-------------------------------+-------------------------------+---------------------+\n",
      "| Covid                        | Coved                         | Vidovic                       | Ovid                |\n",
      "+------------------------------+-------------------------------+-------------------------------+---------------------+\n",
      "| UAE                          | USE                           | NAE                           | RAE                 |\n",
      "+------------------------------+-------------------------------+-------------------------------+---------------------+\n",
      "| VegTruthSeeker               | Vegetarianism                 | Victoriousness                |                     |\n",
      "+------------------------------+-------------------------------+-------------------------------+---------------------+\n",
      "| modernatx                    | moderation                    | moderator                     | moderated           |\n",
      "+------------------------------+-------------------------------+-------------------------------+---------------------+\n",
      "| digitalseries                | digital series                | digital-series                | digitalizes         |\n",
      "+------------------------------+-------------------------------+-------------------------------+---------------------+\n",
      "| mUzima                       | maximum                       | Mazama                        | miasma              |\n",
      "+------------------------------+-------------------------------+-------------------------------+---------------------+\n",
      "| DM                           | D                             | M                             | DIM                 |\n",
      "+------------------------------+-------------------------------+-------------------------------+---------------------+\n",
      "| QuickTake                    | Quick Take                    | Quick-take                    | Quicken             |\n",
      "+------------------------------+-------------------------------+-------------------------------+---------------------+\n",
      "| soRT                         | sort                          | tors                          | sot                 |\n",
      "+------------------------------+-------------------------------+-------------------------------+---------------------+\n",
      "| doesnt                       | doesn't                       | doest                         |                     |\n",
      "+------------------------------+-------------------------------+-------------------------------+---------------------+\n",
      "| samjjane                     | Sarajane                      | Janessa                       | sameness            |\n",
      "+------------------------------+-------------------------------+-------------------------------+---------------------+\n",
      "| Liverpoolbased               | Liverpool based               | Liverpool-based               | Liverpool           |\n",
      "+------------------------------+-------------------------------+-------------------------------+---------------------+\n",
      "| MJChannelOne                 | Channelization                | Multichannel                  | Channelize          |\n",
      "+------------------------------+-------------------------------+-------------------------------+---------------------+\n",
      "| Isnt                         | Inst                          | Isn't                         | Int                 |\n",
      "+------------------------------+-------------------------------+-------------------------------+---------------------+\n",
      "| xplr                         | explore                       | expel                         | plural              |\n",
      "+------------------------------+-------------------------------+-------------------------------+---------------------+\n",
      "| theRT                        | the Rt                        | there                         | chert               |\n",
      "+------------------------------+-------------------------------+-------------------------------+---------------------+\n",
      "| ScamdemicNew                 | Academician                   | Nonacademic                   | Schematically       |\n",
      "+------------------------------+-------------------------------+-------------------------------+---------------------+\n",
      "| youll                        | you'll                        | you ll                        | you-ll              |\n",
      "+------------------------------+-------------------------------+-------------------------------+---------------------+\n",
      "| arizonacovid                 | Arizonan                      | Arizona                       | Arizonian           |\n",
      "+------------------------------+-------------------------------+-------------------------------+---------------------+\n",
      "| NeuroscienceNew              | Pseudoscience                 | Conscienceless                | Bioscience          |\n",
      "+------------------------------+-------------------------------+-------------------------------+---------------------+\n",
      "| Fujairah                     | Funfair                       | Figueroa                      | Figural             |\n",
      "+------------------------------+-------------------------------+-------------------------------+---------------------+\n",
      "| COVID19                      | VIDOVIC                       | COIFFED                       | COVETING            |\n",
      "+------------------------------+-------------------------------+-------------------------------+---------------------+\n",
      "| nytimes                      | anytime                       | daytimes                      | meantimes           |\n",
      "+------------------------------+-------------------------------+-------------------------------+---------------------+\n",
      "| LosAngeles                   | Los Angeles                   | Los-Angeles                   | Angelenos           |\n",
      "+------------------------------+-------------------------------+-------------------------------+---------------------+\n",
      "| CashApp                      | Caiaphas                      | Pasha                         | Cash                |\n",
      "+------------------------------+-------------------------------+-------------------------------+---------------------+\n",
      "| emt                          | EMT                           | met                           | em                  |\n",
      "+------------------------------+-------------------------------+-------------------------------+---------------------+\n",
      "| ARNews                       | Ar News                       | Arne's                        | Ar-news             |\n",
      "+------------------------------+-------------------------------+-------------------------------+---------------------+\n",
      "| TOMDF                        | TOM                           | MODIFY                        | TIMID               |\n",
      "+------------------------------+-------------------------------+-------------------------------+---------------------+\n",
      "| courseCan                    | course Can                    | course-Can                    | course-can          |\n",
      "+------------------------------+-------------------------------+-------------------------------+---------------------+\n",
      "| theyre                       | there                         | they're                       | they re             |\n",
      "+------------------------------+-------------------------------+-------------------------------+---------------------+\n",
      "| coronavirusRT                | coronation                    | coruscation                   | Carboniferous       |\n",
      "+------------------------------+-------------------------------+-------------------------------+---------------------+\n",
      "| realDonaldTrump              | intrametropolitan             | underemployment               |                     |\n",
      "+------------------------------+-------------------------------+-------------------------------+---------------------+\n",
      "| fundthefirst                 | firsthand                     | headfirst                     | fundamentalist      |\n",
      "+------------------------------+-------------------------------+-------------------------------+---------------------+\n",
      "| morethanmySLE                | polyurethane                  | northernmost                  | southernmost        |\n",
      "+------------------------------+-------------------------------+-------------------------------+---------------------+\n",
      "| kr3at                        | karat                         | autocrat                      | Krakatoa            |\n",
      "+------------------------------+-------------------------------+-------------------------------+---------------------+\n",
      "| mHealth                      | m Health                      | health                        | Althea              |\n",
      "+------------------------------+-------------------------------+-------------------------------+---------------------+\n",
      "| IranCovidTruth               | Frankfurter                   |                               |                     |\n",
      "+------------------------------+-------------------------------+-------------------------------+---------------------+\n",
      "| Bowardi                      | Boarding                      | Coward                        | Howard              |\n",
      "+------------------------------+-------------------------------+-------------------------------+---------------------+\n",
      "| PMLN                         | PM                            | PUMMEL                        | PAMELA              |\n",
      "+------------------------------+-------------------------------+-------------------------------+---------------------+\n",
      "| reRT                         | re Rt                         | terr                          | rest                |\n",
      "+------------------------------+-------------------------------+-------------------------------+---------------------+\n",
      "| Covid19                      | Vidovic                       | Coiffed                       | Coveting            |\n",
      "+------------------------------+-------------------------------+-------------------------------+---------------------+\n",
      "| populationscale              | population scale              | population-scale              | underpopulation     |\n",
      "+------------------------------+-------------------------------+-------------------------------+---------------------+\n",
      "| HealthOverExams              | Healthfulness                 | Hemispherical                 | Overexploitation    |\n",
      "+------------------------------+-------------------------------+-------------------------------+---------------------+\n",
      "| GeoNewsRT                    | Stonewort                     | Newsagent                     | Sturgeon            |\n",
      "+------------------------------+-------------------------------+-------------------------------+---------------------+\n",
      "| coronavirus                  | corona virus                  | corona-virus                  | coronation          |\n",
      "+------------------------------+-------------------------------+-------------------------------+---------------------+\n",
      "| AnneGloverEU                 | Maneuverer                    | Overmanning                   | Anglophobe          |\n",
      "+------------------------------+-------------------------------+-------------------------------+---------------------+\n",
      "| dont                         | don't                         | font                          | dint                |\n",
      "+------------------------------+-------------------------------+-------------------------------+---------------------+\n",
      "| renoomokri                   | renovation                    | agronomic                     | rainmaking          |\n",
      "+------------------------------+-------------------------------+-------------------------------+---------------------+\n",
      "| organisation                 | organization                  | vaporisation                  | organismic          |\n",
      "+------------------------------+-------------------------------+-------------------------------+---------------------+\n",
      "| Bihar                        | Harbin                        | Barbi                         | Harri               |\n",
      "+------------------------------+-------------------------------+-------------------------------+---------------------+\n",
      "| whenSadly                    | when Sadly                    | when-sadly                    | sensately           |\n",
      "+------------------------------+-------------------------------+-------------------------------+---------------------+\n",
      "| AtheistLiberal               | Atheist Liberal               | Atheist-liberal               | Liberationists      |\n",
      "+------------------------------+-------------------------------+-------------------------------+---------------------+\n",
      "| COVID                        | COVED                         | VIDOVIC                       | OVID                |\n",
      "+------------------------------+-------------------------------+-------------------------------+---------------------+\n",
      "| BBCBRT                       | CABARET                       | LUCUBRATE                     |                     |\n",
      "+------------------------------+-------------------------------+-------------------------------+---------------------+\n",
      "| AstraZenecaDr                | Strangeness                   | Defenestrate                  | Astronautical       |\n",
      "+------------------------------+-------------------------------+-------------------------------+---------------------+\n",
      "| lockdown                     | lock down                     | lock-down                     | knockdown           |\n",
      "+------------------------------+-------------------------------+-------------------------------+---------------------+\n",
      "| schemRT                      | schemer                       | schemta                       | schemata            |\n",
      "+------------------------------+-------------------------------+-------------------------------+---------------------+\n",
      "| geonewsenglish               | Englishwomen                  | Englishwoman                  | Englishmen          |\n",
      "+------------------------------+-------------------------------+-------------------------------+---------------------+\n",
      "| hmtreasury                   | treasury                      | Treasury                      | treasurer           |\n",
      "+------------------------------+-------------------------------+-------------------------------+---------------------+\n",
      "| needsRT                      | needs Rt                      | needs-rt                      | needer              |\n",
      "+------------------------------+-------------------------------+-------------------------------+---------------------+\n",
      "| PPPLoans                     | Planktons                     | Pantaloons                    | Polanski            |\n",
      "+------------------------------+-------------------------------+-------------------------------+---------------------+\n",
      "| KATV7                        | KAT                           | ACTIVE                        | CATV                |\n",
      "+------------------------------+-------------------------------+-------------------------------+---------------------+\n",
      "| actingRT                     | acting Rt                     | acting-rt                     | acting              |\n",
      "+------------------------------+-------------------------------+-------------------------------+---------------------+\n",
      "| aRT                          | art                           | CRT                           | rat                 |\n",
      "+------------------------------+-------------------------------+-------------------------------+---------------------+\n",
      "| approachRT                   | approach Rt                   | approach-rt                   | approacher          |\n",
      "+------------------------------+-------------------------------+-------------------------------+---------------------+\n",
      "| UKCovid19Stats               | Photostatic                   | Biostatistic                  |                     |\n",
      "+------------------------------+-------------------------------+-------------------------------+---------------------+\n",
      "| AZDHS                        | HAZARDS                       | ADHESIVE                      | IDAHOES             |\n",
      "+------------------------------+-------------------------------+-------------------------------+---------------------+\n",
      "| PTIs                         | Pt Is                         | P Tis                         | Pits                |\n",
      "+------------------------------+-------------------------------+-------------------------------+---------------------+\n",
      "| APOVoter                     | Appointer                     | Approver                      | Potterer            |\n",
      "+------------------------------+-------------------------------+-------------------------------+---------------------+\n"
     ]
    }
   ],
   "source": [
    "if(SPELLING_table):\n",
    "    print(tabulate(SPELLING_table,headers=[\"Missplelt Word\",\"Suggestion 1\",\"Suggestion 2\",\"Suggestion 3\"],tablefmt=\"grid\"))\n",
    "    with open(\"MISS-SPELLED WORDS TABLE.txt\",\"w\") as file:\n",
    "        file.write(tabulate(SPELLING_table,headers=[\"Missplelt Word\",\"Suggestion 1\",\"Suggestion 2\",\"Suggestion 3\"],tablefmt=\"grid\"))"
   ]
  },
  {
   "cell_type": "code",
   "execution_count": 34,
   "metadata": {},
   "outputs": [
    {
     "data": {
      "image/png": "[encoded data removed]",
      "text/plain": [
       "<Figure size 648x288 with 1 Axes>"
      ]
     },
     "metadata": {},
     "output_type": "display_data"
    }
   ],
   "source": [
    "PLOT_GRAPH([\"MISSPELT\",\"OFFENSIVE\",\"CORRECT\"],[MISSPELT_WORDS,FOUL_LANGUAGE,CORRECTLY_SPELT_WORDS])"
   ]
  },
  {
   "cell_type": "code",
   "execution_count": 24,
   "metadata": {},
   "outputs": [
    {
     "data": {
      "image/png": "[encoded data removed]",
      "text/plain": [
       "<Figure size 648x288 with 1 Axes>"
      ]
     },
     "metadata": {},
     "output_type": "display_data"
    }
   ],
   "source": [
    "PLOT_GRAPH_2(TOP_WORDS,TOP_WORDS_Y)"
   ]
  },
  {
   "cell_type": "code",
   "execution_count": 28,
   "metadata": {},
   "outputs": [
    {
     "name": "stdout",
     "output_type": "stream",
     "text": [
      "670\n"
     ]
    }
   ],
   "source": [
    "print(len(data.keys()))"
   ]
  },
  {
   "cell_type": "code",
   "execution_count": null,
   "metadata": {},
   "outputs": [],
   "source": []
  }
 ],
 "metadata": {
  "colab": {
   "collapsed_sections": [],
   "name": "DB_SPARK_STREAM.ipynb",
   "provenance": []
  },
  "kernelspec": {
   "display_name": "Python 3",
   "language": "python",
   "name": "python3"
  },
  "language_info": {
   "codemirror_mode": {
    "name": "ipython",
    "version": 3
   },
   "file_extension": ".py",
   "mimetype": "text/x-python",
   "name": "python",
   "nbconvert_exporter": "python",
   "pygments_lexer": "ipython3",
   "version": "3.7.6"
  }
 },
 "nbformat": 4,
 "nbformat_minor": 1
}
